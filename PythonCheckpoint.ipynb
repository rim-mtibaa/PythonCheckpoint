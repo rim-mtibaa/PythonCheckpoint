{
 "cells": [
  {
   "cell_type": "markdown",
   "id": "db57d895",
   "metadata": {},
   "source": [
    "Question 1\n",
    "\n",
    "Write a program that will find all numbers which are divisible by 7 but are not a multiple of 5, between 2000 and 3200 (both included). The numbers obtained should be printed in a list.\n",
    "\n",
    "Hint: Consider using the range(#begin, #end) method."
   ]
  },
  {
   "cell_type": "code",
   "execution_count": null,
   "id": "c09421a6",
   "metadata": {},
   "outputs": [],
   "source": [
    "liste=[]\n",
    "for i in range(2000,3200,1):\n",
    "    if (i%7==0) and (i%5!=0):\n",
    "        liste.append(i)\n",
    "print(liste)\n",
    "    "
   ]
  },
  {
   "cell_type": "markdown",
   "id": "e548c1a3",
   "metadata": {},
   "source": [
    "Question 2 \n",
    "\n",
    "Write a program that can compute the factorial of a given number. (The factorial of n is the product of all positive integers less than or equal to n.) For example: For factorial(5)= 5 x 4 x 3 x 2 x 1 the result is 120 (i.e. factorial (0)=1)."
   ]
  },
  {
   "cell_type": "code",
   "execution_count": null,
   "id": "42fac6ea",
   "metadata": {},
   "outputs": [],
   "source": [
    "def factorial(num=0):\n",
    "    if (num==0):\n",
    "        return 1\n",
    "    else:\n",
    "        return (num * factorial(num-1))\n",
    "var=int(input(\"give me a number : \"))\n",
    "print(\"{} {}\".format(\"factorial is : \",factorial(var)))"
   ]
  },
  {
   "cell_type": "markdown",
   "id": "9c6f7d3f",
   "metadata": {},
   "source": [
    "Question 3 \n",
    "\n",
    "With a given integer number n, write a program to generate a dictionary that contains (i, i*i) such that is an integral number between 1 and n (both included). Then, the program should print the dictionary. Suppose the following input is supplied to the program: 8 Then, the output should be: {1: 1, 2: 4, 3: 9, 4: 16, 5: 25, 6: 36, 7: 49, 8: 64}  "
   ]
  },
  {
   "cell_type": "code",
   "execution_count": null,
   "id": "c6b19833",
   "metadata": {},
   "outputs": [],
   "source": [
    "n=int(input(\"give me a number : \"))\n",
    "my_dict={}\n",
    "for i in range(1,n+1,1):\n",
    "    my_dict[i]=i*i\n",
    "print(my_dict)"
   ]
  },
  {
   "cell_type": "markdown",
   "id": "ba7736c6",
   "metadata": {},
   "source": [
    "Question 4 \n",
    "\n",
    "Given a non-empty string and an integral n, return a new string where the char at index n has been removed. The value of n will be a valid index of a char in the original string (i.e. n will be in the range 0..len(str)-1 inclusive). \n",
    "\n",
    "missing_char('kitten', 1) → 'ktten'    for example here we remove \"i\" which is located in the index 1\n",
    "\n",
    "missing_char('kitten', 0) → 'itten'   here we remove \"k\" which is in the index 0\n",
    "\n",
    "missing_char('kitten', 4) → 'kittn'   here we remove \"e\" which is in the index 4"
   ]
  },
  {
   "cell_type": "code",
   "execution_count": null,
   "id": "30272bed",
   "metadata": {},
   "outputs": [],
   "source": [
    "\n",
    "def string_non_empty ():\n",
    "    while True :\n",
    "        ch = str(input(\"give me a non-empty string: \"))\n",
    "        if ch.strip():  # Check if the input string is not empty after removing leading/trailing whitespace\n",
    "            return ch\n",
    "        else:\n",
    "            print(\"Please enter a non-empty string.\")\n",
    "\n",
    "            \n",
    "def number_in_range(ch):\n",
    "    while True:\n",
    "        n = int(input(\"give me a number: \"))\n",
    "        if n in range(len(ch)):\n",
    "            return n\n",
    "        else:\n",
    "            print(\"Please enter a number in range\")\n",
    "            \n",
    "            \n",
    "def missing_char(ch, n):\n",
    "    return ch[:n] + ch[n+1:]\n",
    "\n",
    "\n",
    "ch=string_non_empty()\n",
    "n=number_in_range(ch)\n",
    "result=missing_char(ch,n)\n",
    "\n",
    "print(\"Original string:\", ch)\n",
    "print(\"New string with char at index {} removed:\".format(n), result)"
   ]
  },
  {
   "cell_type": "markdown",
   "id": "7dd61d69",
   "metadata": {},
   "source": [
    "Question 5 \n",
    "\n",
    "Write a NumPy program to convert a NumPy array into a Python list structure.\n",
    "\n",
    "Expected output: \n",
    "\n",
    "Original array elements: [[0 1] [2 3] [4 5]] \n",
    "\n",
    "Array to list: [[0, 1], [2, 3], [4, 5]] \n",
    " \n",
    "\n",
    "Hint: We can use the to_list() function to ensure the conversion."
   ]
  },
  {
   "cell_type": "code",
   "execution_count": 6,
   "id": "3f6e8f08",
   "metadata": {},
   "outputs": [
    {
     "name": "stdout",
     "output_type": "stream",
     "text": [
      "NumPy array: [[0 1]\n",
      " [2 3]\n",
      " [4 5]]\n",
      "Python list: [[0, 1], [2, 3], [4, 5]]\n"
     ]
    }
   ],
   "source": [
    "import numpy as np\n",
    "\n",
    "numpy_array = np.array([[0, 1], [2, 3], [4, 5]])\n",
    "\n",
    "python_list = numpy_array.tolist()\n",
    "\n",
    "print(\"NumPy array:\", numpy_array)\n",
    "print(\"Python list:\", python_list)"
   ]
  },
  {
   "cell_type": "markdown",
   "id": "7adbfd3c",
   "metadata": {},
   "source": [
    "Question 6\n",
    "\n",
    "Write a NumPy program to compute the covariance matrix of two given arrays. \n",
    "\n",
    "Original array1: [0 1 2] \n",
    "\n",
    "Original array2: [2 1 0] \n",
    "\n",
    "Covariance matrix of the said arrays: [[ 1. -1.] [-1. 1.]]\n",
    " \n",
    "\n",
    "Hint: We can use the np.cov() function to calculate the covariance between these two arrays"
   ]
  },
  {
   "cell_type": "code",
   "execution_count": 7,
   "id": "3261e8ce",
   "metadata": {},
   "outputs": [
    {
     "name": "stdout",
     "output_type": "stream",
     "text": [
      "Array 1: [1 2 3 4 5]\n",
      "Array 2: [5 4 3 2 1]\n",
      "Covariance Matrix:\n",
      " [[ 2.5 -2.5]\n",
      " [-2.5  2.5]]\n"
     ]
    }
   ],
   "source": [
    "import numpy as np\n",
    "\n",
    "array1 = np.array([1, 2, 3, 4, 5])\n",
    "array2 = np.array([5, 4, 3, 2, 1])\n",
    "\n",
    "covariance_matrix = np.cov(array1, array2)\n",
    "\n",
    "print(\"Array 1:\", array1)\n",
    "print(\"Array 2:\", array2)\n",
    "print(\"Covariance Matrix:\\n\", covariance_matrix)\n"
   ]
  },
  {
   "cell_type": "markdown",
   "id": "8c00628a",
   "metadata": {},
   "source": [
    "Question 7\n",
    "\n",
    "Question: Write a program that calculates and prints the value according to the given formula: Q= Square root of [(2 * C * D)/H] \n",
    "\n",
    "The following are the fixed values of C and H: C is 50. H is 30. \n",
    "\n",
    "D is the variable whose values should be input into your program in a comma-separated sequence. (That means D contains more than value)\n",
    "\n",
    "Example: Let's assume the following comma-separated input sequence is given to the program: 100,150,180 The output of the program should be 18,22,24 \n",
    "\n",
    "To further explain this, we will obtain a result for each value of D:  Q1= Square root of [(2 * C * 100)/H] =18, Q2= Square root of [(2 * C * 150)/H] = 22 and Q3 = Square root of [(2 * C * 180)/H]  = 24\n",
    "\n",
    "Hint: If the output received is in decimal form, it should be rounded off to its nearest value. For example, if the output received is 26.0, it should be printed as 26. In case of input data being supplied to the question, it should be assumed to be a console input. "
   ]
  },
  {
   "cell_type": "code",
   "execution_count": 8,
   "id": "a9951c8c",
   "metadata": {},
   "outputs": [
    {
     "name": "stdout",
     "output_type": "stream",
     "text": [
      "Enter comma-separated values of D: 100,150,180\n",
      "Output: 18,22,24\n"
     ]
    }
   ],
   "source": [
    "import math\n",
    "\n",
    "# Fixed values of C and H\n",
    "C = 50\n",
    "H = 30\n",
    "\n",
    "# Function to calculate and round the value according to the formula\n",
    "def calculate_q(D):\n",
    "    return int(round(math.sqrt((2 * C * D) / H)))\n",
    "\n",
    "# Input comma-separated sequence of d values\n",
    "input_sequence = input(\"Enter comma-separated values of D: \")\n",
    "D_values = [int(d) for d in input_sequence.split(\",\")]\n",
    "\n",
    "# Calculate Q values and print the result\n",
    "Q_values = [calculate_q(D) for D in D_values]\n",
    "output = \",\".join(str(q) for q in Q_values)\n",
    "\n",
    "print(\"Output:\", output)\n"
   ]
  }
 ],
 "metadata": {
  "kernelspec": {
   "display_name": "Python 3 (ipykernel)",
   "language": "python",
   "name": "python3"
  },
  "language_info": {
   "codemirror_mode": {
    "name": "ipython",
    "version": 3
   },
   "file_extension": ".py",
   "mimetype": "text/x-python",
   "name": "python",
   "nbconvert_exporter": "python",
   "pygments_lexer": "ipython3",
   "version": "3.9.13"
  }
 },
 "nbformat": 4,
 "nbformat_minor": 5
}
